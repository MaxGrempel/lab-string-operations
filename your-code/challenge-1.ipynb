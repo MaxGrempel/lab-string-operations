{
 "cells": [
  {
   "cell_type": "markdown",
   "metadata": {},
   "source": [
    "# String Operations Lab\n",
    "\n",
    "**Before your start:**\n",
    "\n",
    "- Read the README.md file\n",
    "- Comment as much as you can and use the resources in the README.md file\n",
    "- Happy learning!"
   ]
  },
  {
   "cell_type": "code",
   "execution_count": 1,
   "metadata": {},
   "outputs": [],
   "source": [
    "import re"
   ]
  },
  {
   "cell_type": "markdown",
   "metadata": {},
   "source": [
    "# Challenge 1 - Combining Strings\n",
    "\n",
    "Combining strings is an important skill to acquire. There are multiple ways of combining strings in Python, as well as combining strings with variables. We will explore this in the first challenge. In the cell below, combine the strings in the list and add spaces between the strings (do not add a space after the last string). Insert a period after the last string."
   ]
  },
  {
   "cell_type": "code",
   "execution_count": 3,
   "metadata": {},
   "outputs": [
    {
     "data": {
      "text/plain": [
       "'Durante un tiempo no estuvo segura de si su marido era su marido.'"
      ]
     },
     "execution_count": 3,
     "metadata": {},
     "output_type": "execute_result"
    }
   ],
   "source": [
    "str_list = ['Durante', 'un', 'tiempo', 'no', 'estuvo', 'segura', 'de', 'si', 'su', 'marido', 'era', 'su', 'marido']\n",
    "# Your code here:\n",
    "\" \".join(str_list) +\".\""
   ]
  },
  {
   "cell_type": "markdown",
   "metadata": {},
   "source": [
    "In the cell below, use the list of strings to create a grocery list. Start the list with the string `Grocery list: ` and include a comma and a space between each item except for the last one. Include a period at the end. Only include foods in the list that start with the letter 'b' and ensure all foods are lower case."
   ]
  },
  {
   "cell_type": "code",
   "execution_count": 10,
   "metadata": {},
   "outputs": [
    {
     "data": {
      "text/plain": [
       "'Grocery list: bananas, bread, brownie mix, broccoli.'"
      ]
     },
     "execution_count": 10,
     "metadata": {},
     "output_type": "execute_result"
    }
   ],
   "source": [
    "food_list = ['Bananas', 'Chocolate', 'bread', 'diapers', 'Ice Cream', 'Brownie Mix', 'broccoli']\n",
    "# Your code here:\n",
    "b_filter = 'B'\n",
    "food_list_b = [item for item in food_list if item[0].lower() == b_filter.lower()]\n",
    "# print(food_list_b)\n",
    "\"Grocery list: \" + \", \".join(food_list_b).lower() + \".\" "
   ]
  },
  {
   "cell_type": "markdown",
   "metadata": {},
   "source": [
    "In the cell below, write a function that computes the area of a circle using its radius. Compute the area of the circle and insert the radius and the area between the two strings. Make sure to include spaces between the variable and the strings. \n",
    "\n",
    "Note: You can use the techniques we have learned so far or use f-strings. F-strings allow us to embed code inside strings. You can read more about f-strings [here](https://www.python.org/dev/peps/pep-0498/)."
   ]
  },
  {
   "cell_type": "code",
   "execution_count": 23,
   "metadata": {},
   "outputs": [
    {
     "name": "stdout",
     "output_type": "stream",
     "text": [
      "The area of the circle with radius: 4.5 is: 63.61725123519331\n"
     ]
    }
   ],
   "source": [
    "import math\n",
    "\n",
    "string1 = \"The area of the circle with radius:\"\n",
    "string2  = \"is:\"\n",
    "radius = 4.5\n",
    "\n",
    "def area(x, pi = math.pi):\n",
    "    # This function takes a radius and returns the area of a circle. We also pass a default value for pi.\n",
    "    # Input: Float (and default value for pi)\n",
    "    # Output: Float\n",
    "    \n",
    "    # Sample input: 5.0\n",
    "    # Sample Output: 78.53981633\n",
    "    \n",
    "    # Your code here:\n",
    "    \n",
    "    return pi * (x**2)\n",
    "\n",
    "# Your output string here:\n",
    "solution = f\"{string1} {radius} {string2} {area(4.5, pi = math.pi)}\"\n",
    "print(solution)"
   ]
  },
  {
   "cell_type": "markdown",
   "metadata": {},
   "source": [
    "# Challenge 2 - Splitting Strings\n",
    "\n",
    "We have first looked at combining strings into one long string. There are times where we need to do the opposite and split the string into smaller components for further analysis. \n",
    "\n",
    "In the cell below, split the string into a list of strings using the space delimiter. Count the frequency of each word in the string in a dictionary. Strip the periods, line breaks and commas from the text. Make sure to remove empty strings from your dictionary."
   ]
  },
  {
   "cell_type": "code",
   "execution_count": 45,
   "metadata": {},
   "outputs": [
    {
     "data": {
      "text/plain": [
       "{'Some': 2,\n",
       " 'say': 3,\n",
       " 'the': 1,\n",
       " 'world': 1,\n",
       " 'will': 1,\n",
       " 'end': 1,\n",
       " 'in': 2,\n",
       " 'fire,': 1,\n",
       " 'ice.': 1,\n",
       " 'From': 1,\n",
       " 'what': 1,\n",
       " 'I’ve': 1,\n",
       " 'tasted': 1,\n",
       " 'of': 2,\n",
       " 'desire': 1,\n",
       " 'I': 3,\n",
       " 'hold': 1,\n",
       " 'with': 1,\n",
       " 'those': 1,\n",
       " 'who': 1,\n",
       " 'favor': 1,\n",
       " 'fire.': 1,\n",
       " 'But': 1,\n",
       " 'if': 1,\n",
       " 'it': 1,\n",
       " 'had': 1,\n",
       " 'to': 1,\n",
       " 'perish': 1,\n",
       " 'twice,': 1,\n",
       " 'think': 1,\n",
       " 'know': 1,\n",
       " 'enough': 1,\n",
       " 'hate': 1,\n",
       " 'To': 1,\n",
       " 'that': 1,\n",
       " 'for': 1,\n",
       " 'destruction': 1,\n",
       " 'ice': 1,\n",
       " 'Is': 1,\n",
       " 'also': 1,\n",
       " 'great': 1,\n",
       " 'And': 1,\n",
       " 'would': 1,\n",
       " 'suffice.': 1}"
      ]
     },
     "execution_count": 45,
     "metadata": {},
     "output_type": "execute_result"
    }
   ],
   "source": [
    "poem = \"\"\"Some say the world will end in fire,\n",
    "Some say in ice.\n",
    "From what I’ve tasted of desire\n",
    "I hold with those who favor fire.\n",
    "But if it had to perish twice,\n",
    "I think I know enough of hate\n",
    "To say that for destruction ice\n",
    "Is also great\n",
    "And would suffice.\"\"\"\n",
    "\n",
    "# Your code here:\n",
    "poem2 = poem.replace(\"\\n\", \" \")\n",
    "# print(poem2)\n",
    "\n",
    "word_list = poem2.split(\" \")\n",
    "# print(word_list)\n",
    "word_count = {}\n",
    "for word in word_list:\n",
    "    if word in word_count.keys():\n",
    "        word_count[word] += 1\n",
    "    else:\n",
    "        word_count[word] = 1\n",
    "word_count"
   ]
  },
  {
   "cell_type": "markdown",
   "metadata": {},
   "source": [
    "In the cell below, find all the words that appear in the text and do not appear in the blacklist. You must parse the string but can choose any data structure you wish for the words that do not appear in the blacklist. Remove all non letter characters and convert all words to lower case."
   ]
  },
  {
   "cell_type": "code",
   "execution_count": 75,
   "metadata": {},
   "outputs": [
    {
     "name": "stdout",
     "output_type": "stream",
     "text": [
      "['I', ' ', 'w', 's', ' ', 'n', 'g', 'r', 'y', ' ', 'w', 'i', 't', 'h', ' ', 'm', 'y', ' ', 'f', 'r', 'i', 'e', 'n', 'd', ' ', ' ', 'I', ' ', 't', 'o', 'l', 'd', ' ', 'm', 'y', ' ', 'w', 'r', 't', 'h', ' ', 'm', 'y', ' ', 'w', 'r', 't', 'h', ' ', 'd', 'i', 'd', ' ', 'e', 'n', 'd', ' ', 'I', ' ', 'w', 's', ' ', 'n', 'g', 'r', 'y', ' ', 'w', 'i', 't', 'h', ' ', 'm', 'y', ' ', 'f', 'o', 'e', ' ', ' ', 'I', ' ', 't', 'o', 'l', 'd', ' ', 'i', 't', ' ', 'n', 'o', 't', ' ', 'm', 'y', ' ', 'w', 'r', 't', 'h', ' ', 'd', 'i', 'd', ' ', 'g', 'r', 'o', 'w', ' ', ' ', ' ', 'A', 'n', 'd', ' ', 'I', ' ', 'w', 't', 'e', 'r', 'd', ' ', 'i', 't', ' ', 'i', 'n', ' ', 'f', 'e', 'r', 's', ' ', 'N', 'i', 'g', 'h', 't', ' ', ' ', 'm', 'o', 'r', 'n', 'i', 'n', 'g', ' ', 'w', 'i', 't', 'h', ' ', 'm', 'y', ' ', 't', 'e', 'r', 's', ' ', ' ', 'A', 'n', 'd', ' ', 'I', ' ', 's', 'u', 'n', 'n', 'e', 'd', ' ', 'i', 't', ' ', 'w', 'i', 't', 'h', ' ', 's', 'm', 'i', 'l', 'e', 's', ' ', 'A', 'n', 'd', ' ', 'w', 'i', 't', 'h', ' ', 's', 'o', 'f', 't', ' ', 'd', 'e', 'c', 'e', 'i', 't', 'f', 'u', 'l', ' ', 'w', 'i', 'l', 'e', 's', ' ', ' ', ' ', 'A', 'n', 'd', ' ', 'i', 't', ' ', 'g', 'r', 'e', 'w', ' ', 'b', 'o', 't', 'h', ' ', 'd', 'y', ' ', 'n', 'd', ' ', 'n', 'i', 'g', 'h', 't', ' ', ' ', 'T', 'i', 'l', 'l', ' ', 'i', 't', ' ', 'b', 'o', 'r', 'e', ' ', 'n', ' ', 'p', 'p', 'l', 'e', ' ', 'b', 'r', 'i', 'g', 'h', 't', ' ', ' ', 'A', 'n', 'd', ' ', 'm', 'y', ' ', 'f', 'o', 'e', ' ', 'b', 'e', 'h', 'e', 'l', 'd', ' ', 'i', 't', ' ', 's', 'h', 'i', 'n', 'e', ' ', 'A', 'n', 'd', ' ', 'h', 'e', ' ', 'k', 'n', 'e', 'w', ' ', 't', 'h', 't', ' ', 'i', 't', ' ', 'w', 's', ' ', 'm', 'i', 'n', 'e', ' ', ' ', ' ', 'A', 'n', 'd', ' ', 'i', 'n', 't', 'o', ' ', 'm', 'y', ' ', 'g', 'r', 'd', 'e', 'n', ' ', 's', 't', 'o', 'l', 'e', ' ', ' ', 'W', 'h', 'e', 'n', ' ', 't', 'h', 'e', ' ', 'n', 'i', 'g', 'h', 't', ' ', 'h', 'd', ' ', 'v', 'e', 'i', 'l', 'd', ' ', 't', 'h', 'e', ' ', 'p', 'o', 'l', 'e', ' ', ' ', 'I', 'n', ' ', 't', 'h', 'e', ' ', 'm', 'o', 'r', 'n', 'i', 'n', 'g', ' ', 'g', 'l', 'd', ' ', 'I', ' ', 's', 'e', 'e', ' ', ' ', 'M', 'y', ' ', 'f', 'o', 'e', ' ', 'o', 'u', 't', 's', 't', 'r', 'e', 't', 'c', 'h', 'e', 'd', ' ', 'b', 'e', 'n', 'e', 't', 'h', ' ', 't', 'h', 'e', ' ', 't', 'r', 'e', 'e']\n"
     ]
    }
   ],
   "source": [
    "blacklist = ['and', 'as', 'an', 'a', 'the', 'in', 'it']\n",
    "\n",
    "poem = \"\"\"I was angry with my friend; \n",
    "I told my wrath, my wrath did end.\n",
    "I was angry with my foe: \n",
    "I told it not, my wrath did grow. \n",
    "\n",
    "And I waterd it in fears,\n",
    "Night & morning with my tears: \n",
    "And I sunned it with smiles,\n",
    "And with soft deceitful wiles. \n",
    "\n",
    "And it grew both day and night. \n",
    "Till it bore an apple bright. \n",
    "And my foe beheld it shine,\n",
    "And he knew that it was mine. \n",
    "\n",
    "And into my garden stole, \n",
    "When the night had veild the pole; \n",
    "In the morning glad I see; \n",
    "My foe outstretched beneath the tree.\"\"\"\n",
    "\n",
    "# Your code here:\n",
    "poem_clean = poem.replace(\".\", \"\").replace(\",\", \"\").replace(\"\\n\", \" \"). replace(\":\", \"\").replace(\";\", \"\").replace(\"&\", \"\")\n",
    "poem_clean_list = poem_clean.lower().split(\" \")\n",
    "# print(poem_clean_list)\n",
    "# for item in blacklist:\n",
    "#     if item in poem_clean_list:\n",
    "#         poem_clean2 = poem_clean_list.remove(item)\n",
    "# poem_clean2\n",
    "poem_clean2 = [word for word in poem_clean if word not in blacklist]\n",
    "print(poem_clean2)\n",
    "\n",
    "\n",
    "# i have no idea why nothing of this works the way it's supposed to, the logic makes sense in my head. What the hell is this output?"
   ]
  },
  {
   "cell_type": "markdown",
   "metadata": {},
   "source": [
    "# Challenge 3 - Regular Expressions\n",
    "\n",
    "Sometimes, we would like to perform more complex manipulations of our string. This is where regular expressions come in handy. In the cell below, return all characters that are upper case from the string specified below."
   ]
  },
  {
   "cell_type": "code",
   "execution_count": 82,
   "metadata": {},
   "outputs": [
    {
     "data": {
      "text/plain": [
       "['T', 'P']"
      ]
     },
     "execution_count": 82,
     "metadata": {},
     "output_type": "execute_result"
    }
   ],
   "source": [
    "import re\n",
    "\n",
    "poem = \"\"\"The apparition of these faces in the crowd;\n",
    "Petals on a wet, black bough.\"\"\"\n",
    "\n",
    "# Your code here:\n",
    "re.findall(\"[A-Z]\", poem)"
   ]
  },
  {
   "cell_type": "markdown",
   "metadata": {},
   "source": [
    "In the cell below, filter the list provided and return all elements of the list containing a number. To filter the list, use the `re.search` function. Check if the function does not return `None`. You can read more about the `re.search` function [here](https://docs.python.org/3/library/re.html)."
   ]
  },
  {
   "cell_type": "code",
   "execution_count": 89,
   "metadata": {},
   "outputs": [
    {
     "data": {
      "text/plain": [
       "True"
      ]
     },
     "execution_count": 89,
     "metadata": {},
     "output_type": "execute_result"
    }
   ],
   "source": [
    "import re\n",
    "data = ['123abc', 'abc123', 'JohnSmith1', 'ABBY4', 'JANE']\n",
    "data_string = \", \".join(data)\n",
    "# Your code here:\n",
    "bool(re.search('\\w', data_string))"
   ]
  },
  {
   "cell_type": "markdown",
   "metadata": {},
   "source": [
    "# Bonus Challenge - Regular Expressions II\n",
    "\n",
    "In the cell below, filter the list provided to keep only strings containing at least one digit and at least one lower case letter. As in the previous question, use the `re.search` function and check that the result is not `None`.\n",
    "\n",
    "To read more about regular expressions, check out [this link](https://developers.google.com/edu/python/regular-expressions)."
   ]
  },
  {
   "cell_type": "code",
   "execution_count": null,
   "metadata": {},
   "outputs": [],
   "source": [
    "data = ['123abc', 'abc123', 'JohnSmith1', 'ABBY4', 'JANE']\n",
    "# Your code here:\n"
   ]
  }
 ],
 "metadata": {
  "kernelspec": {
   "display_name": "Python 3 (ipykernel)",
   "language": "python",
   "name": "python3"
  },
  "language_info": {
   "codemirror_mode": {
    "name": "ipython",
    "version": 3
   },
   "file_extension": ".py",
   "mimetype": "text/x-python",
   "name": "python",
   "nbconvert_exporter": "python",
   "pygments_lexer": "ipython3",
   "version": "3.9.12"
  }
 },
 "nbformat": 4,
 "nbformat_minor": 2
}
